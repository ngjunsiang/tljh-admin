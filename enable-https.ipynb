{
 "cells": [
  {
   "cell_type": "markdown",
   "metadata": {},
   "source": [
    "# Automatic HTTPS with Let’s Encrypt\n",
    "\n",
    "Original URL: http://tljh.jupyter.org/en/latest/howto/admin/https.html\n",
    "\n",
    "To enable HTTPS via letsencrypt (this cell produces no output):"
   ]
  },
  {
   "cell_type": "code",
   "execution_count": null,
   "metadata": {},
   "outputs": [],
   "source": [
    "# Use python-dotenv to load environment variables for better security\n",
    "import os\n",
    "from dotenv import load_dotenv\n",
    "load_dotenv()\n",
    "\n",
    "EMAIL = os.environ.get(\"email\")\n",
    "DOMAIN = os.environ.get(\"domain\")\n",
    "\n",
    "# Run shell commands to register email and enable HTTPS\n",
    "# with Lets Encrypt certificates\n",
    "! sudo tljh-config set https.enabled true\n",
    "! sudo tljh-config set https.letsencrypt.email $EMAIL\n",
    "! sudo tljh-config add-item https.letsencrypt.domains $DOMAIN"
   ]
  },
  {
   "cell_type": "markdown",
   "metadata": {},
   "source": [
    "Once you have loaded this, your config should look like:"
   ]
  },
  {
   "cell_type": "code",
   "execution_count": null,
   "metadata": {},
   "outputs": [],
   "source": [
    "! sudo tljh-config show"
   ]
  },
  {
   "cell_type": "markdown",
   "metadata": {},
   "source": [
    "Finally, you can reload the proxy to load the new configuration (no output):"
   ]
  },
  {
   "cell_type": "code",
   "execution_count": null,
   "metadata": {},
   "outputs": [],
   "source": [
    "! sudo tljh-config reload proxy"
   ]
  },
  {
   "cell_type": "markdown",
   "metadata": {},
   "source": [
    "It may take a moment for the proxy to negotiate with Let’s Encrypt to get your certificates.\n",
    "\n",
    "These certificates are valid for 3 months. The proxy will automatically renew them for you before they expire."
   ]
  }
 ],
 "metadata": {
  "kernelspec": {
   "display_name": "Python 3",
   "language": "python",
   "name": "python3"
  },
  "language_info": {
   "codemirror_mode": {
    "name": "ipython",
    "version": 3
   },
   "file_extension": ".py",
   "mimetype": "text/x-python",
   "name": "python",
   "nbconvert_exporter": "python",
   "pygments_lexer": "ipython3",
   "version": "3.6.7"
  }
 },
 "nbformat": 4,
 "nbformat_minor": 2
}
