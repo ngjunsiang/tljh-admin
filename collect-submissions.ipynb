{
 "cells": [
  {
   "cell_type": "markdown",
   "metadata": {},
   "source": [
    "# View submissions for assignment"
   ]
  },
  {
   "cell_type": "code",
   "execution_count": null,
   "metadata": {},
   "outputs": [],
   "source": [
    "# Use nbgrader api to verify that users have been imported into nbgrader\n",
    "import os\n",
    "from nbgrader.apps import NbGraderAPI\n",
    "from traitlets.config import Config\n",
    "from datetime import datetime\n",
    "\n",
    "# Use python-dotenv to load environment variables for better security\n",
    "from dotenv import load_dotenv\n",
    "load_dotenv()\n",
    "\n",
    "COURSE_ROOT = os.environ.get(\"course-root\")\n",
    "COURSE_ID = os.environ.get(\"course-id\")\n",
    "HOME = os.environ.get(\"HOME\")\n",
    "\n",
    "# create a custom config object to specify options for nbgrader API\n",
    "config = Config()\n",
    "config.CourseDirectory.root = COURSE_ROOT\n",
    "config.CourseDirectory.course_id = COURSE_ID\n",
    "\n",
    "api = NbGraderAPI(config=config)"
   ]
  },
  {
   "cell_type": "code",
   "execution_count": null,
   "metadata": {},
   "outputs": [],
   "source": [
    "from datetime import datetime\n",
    "import functools\n",
    "\n",
    "def echo(func):\n",
    "    '''Decorator to echo (print) lines that are given to func\n",
    "    (usually an IOTextWrapper)\n",
    "    '''\n",
    "    @functools.wraps(func)\n",
    "    def wrapper(*args, **kwargs):\n",
    "        print(*args[1:],end='') # pop self from args\n",
    "        result = func(*args, **kwargs)\n",
    "        return result\n",
    "    return wrapper\n",
    "\n",
    "def utc_to_localtime(timestamp, **kwargs):\n",
    "    import pytz\n",
    "    \n",
    "    inputformat = kwargs.get('inputformat','%Y-%m-%dT%H:%M:%S.%f')\n",
    "    outputformat = kwargs.get('outputformat','%Y-%m-%d %H:%M')\n",
    "    \n",
    "    if type(timestamp) == datetime:\n",
    "        dt = timestamp\n",
    "    else:\n",
    "        try:\n",
    "            dt = datetime.strptime(timestamp, inputformat)\n",
    "        except ValueError:\n",
    "            dt = datetime.strptime(timestamp, inputformat.replace('.%f',''))\n",
    "    localtime = dt.replace(tzinfo=pytz.utc).astimezone(pytz.timezone('Asia/Singapore'))\n",
    "    new_timestamp = localtime.strftime(outputformat)\n",
    "    return new_timestamp\n",
    "\n",
    "\n",
    "class CSVData:\n",
    "    '''Wrapper class for list of strings to be written to a CSV file'''\n",
    "    def __init__(self):\n",
    "        self.data = []\n",
    "    \n",
    "    @echo\n",
    "    def append(self,line):\n",
    "        if not line.endswith('\\n'):\n",
    "            line += '\\n'\n",
    "        self.data.append(line)\n",
    "\n",
    "    def export(self,filename, **kwargs):\n",
    "        mode = kwargs.get('mode','w')\n",
    "        with open(filename,'w') as f:\n",
    "            f.writelines(self.data)\n",
    "        print(f'Data saved to {filename}')\n",
    "        \n",
    "# Collect all submissions\n",
    "released = list(api.get_released_assignments())\n",
    "for assignment in released:\n",
    "    api.collect(assignment)"
   ]
  },
  {
   "cell_type": "code",
   "execution_count": null,
   "metadata": {
    "scrolled": true
   },
   "outputs": [],
   "source": [
    "data = CSVData()\n",
    "#Write header\n",
    "localtime = utc_to_localtime(datetime.now())\n",
    "line = f'{localtime},{\",\".join(released)}\\n'\n",
    "data.append(line)\n",
    "#Write lines\n",
    "for this in [student['id'] for student in api.get_students()]:\n",
    "    # Dirty hack to ignore zombie users\n",
    "    if this.replace('jupyter-','') in ignore:\n",
    "        continue\n",
    "    # Build lists of student's submissions and timestamps\n",
    "    submitted = api.get_student_submissions(this)\n",
    "    assignments = [s['name'] for s in submitted]\n",
    "    timestamps = [s['timestamp'] if s['timestamp'] is not None else '' for s in submitted]\n",
    "    #Write data\n",
    "    name = this.replace('jupyter-','')\n",
    "    line = f'{name},' # Start a new line\n",
    "    for each in released:\n",
    "        idx = assignments.index(each)\n",
    "        submission_time = timestamps[idx]\n",
    "        if each in assignments:\n",
    "            if submission_time != '':\n",
    "                localtime = utc_to_localtime(timestamps[idx])\n",
    "            else:\n",
    "                localtime = ''\n",
    "            if each != released[-1]: # not last element\n",
    "                line += f'{localtime},'\n",
    "            else:\n",
    "                line += f'{localtime}\\n'\n",
    "    data.append(line)\n",
    "data.export(f'{HOME}/admin/submissions.csv')"
   ]
  },
  {
   "cell_type": "code",
   "execution_count": null,
   "metadata": {
    "scrolled": true
   },
   "outputs": [],
   "source": [
    "%run $HOME/admin/sync-all-to-dropbox.ipynb"
   ]
  }
 ],
 "metadata": {
  "kernelspec": {
   "display_name": "Python 3",
   "language": "python",
   "name": "python3"
  },
  "language_info": {
   "codemirror_mode": {
    "name": "ipython",
    "version": 3
   },
   "file_extension": ".py",
   "mimetype": "text/x-python",
   "name": "python",
   "nbconvert_exporter": "python",
   "pygments_lexer": "ipython3",
   "version": "3.6.7"
  }
 },
 "nbformat": 4,
 "nbformat_minor": 2
}
