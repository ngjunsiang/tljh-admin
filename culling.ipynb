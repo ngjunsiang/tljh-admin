{
 "cells": [
  {
   "cell_type": "code",
   "execution_count": null,
   "metadata": {
    "scrolled": false
   },
   "outputs": [],
   "source": [
    "import ipywidgets as iw\n",
    "from IPython.display import display\n",
    "\n",
    "print('Idle culling service')\n",
    "@iw.interact(state = True)\n",
    "def toggle_culling(state):\n",
    "    ! sudo tljh-config set services.cull.enabled {state}\n",
    "    ! sudo tljh-config reload 2> null\n",
    "\n",
    "print('Idle culling interval')\n",
    "@iw.interact(state = (10,300,10))\n",
    "def toggle_cull_interval(num=60):\n",
    "    ! sudo tljh-config set services.cull.every {num}\n",
    "    ! sudo tljh-config reload 2> null\n",
    "\n",
    "print('Idle culling timeout')\n",
    "@iw.interact(state = (30,3600,30))\n",
    "def toggle_cull_interval(num=600):\n",
    "    ! sudo tljh-config set services.cull.timeout {num}\n",
    "    ! sudo tljh-config reload 2> null"
   ]
  },
  {
   "cell_type": "code",
   "execution_count": null,
   "metadata": {
    "scrolled": true
   },
   "outputs": [],
   "source": [
    "# View current state\n",
    "! sudo tljh-config show"
   ]
  }
 ],
 "metadata": {
  "kernelspec": {
   "display_name": "Python 3",
   "language": "python",
   "name": "python3"
  },
  "language_info": {
   "codemirror_mode": {
    "name": "ipython",
    "version": 3
   },
   "file_extension": ".py",
   "mimetype": "text/x-python",
   "name": "python",
   "nbconvert_exporter": "python",
   "pygments_lexer": "ipython3",
   "version": "3.6.7"
  }
 },
 "nbformat": 4,
 "nbformat_minor": 2
}
