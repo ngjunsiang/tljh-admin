{
 "cells": [
  {
   "cell_type": "markdown",
   "metadata": {},
   "source": [
    "# Add Student"
   ]
  },
  {
   "cell_type": "markdown",
   "metadata": {},
   "source": [
    "## 1. Add users to JupyterHub\n",
    "\n",
    "[Add users to JupyterHub first](https://tljh.servehttp.com/hub/admin). Click on \"Add Users\"."
   ]
  },
  {
   "cell_type": "markdown",
   "metadata": {},
   "source": [
    "## 2. Generate list of students to import"
   ]
  },
  {
   "cell_type": "code",
   "execution_count": null,
   "metadata": {},
   "outputs": [],
   "source": [
    "# Create list to import as import_list\n",
    "# This script reads students from students.csv\n",
    "# students.csv should have comma-separated student data\n",
    "# in the following format:\n",
    "# id,last_name,first_name,email\n",
    "\n",
    "import_list = []\n",
    "with open('students.csv','rt') as f:\n",
    "    header = f.readline().strip().split(',')\n",
    "    for line in f:\n",
    "        data = line.strip().split(',')\n",
    "        student = dict(zip(header,data))\n",
    "        student['id'] = student['id'].lower()\n",
    "        import_list.append(student)"
   ]
  },
  {
   "cell_type": "markdown",
   "metadata": {},
   "source": [
    "## 3. Importing students into nbgrader database\n",
    "\n",
    "You will need to [generate the student list](#Generate-student-list) first."
   ]
  },
  {
   "cell_type": "code",
   "execution_count": null,
   "metadata": {},
   "outputs": [],
   "source": [
    "! nbgrader db student import students.csv\n",
    "\n",
    "# TODO: Refactor to modularise api and gb import\n",
    "\n",
    "import subprocess\n",
    "# Use nbgrader api to verify that users have been imported into nbgrader\n",
    "from nbgrader.apps import NbGraderAPI\n",
    "from nbgrader.api import Gradebook\n",
    "from traitlets.config import Config\n",
    "from datetime import datetime\n",
    "\n",
    "# Use python-dotenv to load environment variables for better security\n",
    "from dotenv import load_dotenv\n",
    "load_dotenv()\n",
    "\n",
    "COURSE_ROOT = os.environ.get(\"course-root\")\n",
    "COURSE_ID = os.environ.get(\"course-id\")\n",
    "\n",
    "# create a custom config object to specify options for nbgrader API\n",
    "config = Config()\n",
    "config.CourseDirectory.root = COURSE_ROOT\n",
    "config.CourseDirectory.course_id = COURSE_ID\n",
    "\n",
    "api = NbGraderAPI(config=config)\n",
    "gb = Gradebook(f'sqlite://{COURSE_ROOT}/gradebook.db')\n",
    "\n",
    "student_list = [student['id'] for student in api.get_students()]\n",
    "\n",
    "for orig_student in import_list:\n",
    "    from copy import copy\n",
    "    try:\n",
    "        student = orig_student.copy()\n",
    "        student_id = student.pop('id')\n",
    "        tljh_id = f\"jupyter-{student_id}\"\n",
    "        gb.update_or_create_student(tljh_id, **student)\n",
    "    except Exception as e:\n",
    "        raise\n",
    "    else:\n",
    "        print(f\"[DONE] {tljh_id} added\")\n",
    "        if student_id in student_list and tljh_id in student_list:\n",
    "            gb.remove_student(student_id)\n",
    "#             subprocess.call([\"nbgrader\",\"db\",\"student\",\"remove\",student_id])\n",
    "            print(f\"[DUPE] {student_id} removed\")\n",
    "# Cleanup\n",
    "del student_list"
   ]
  },
  {
   "cell_type": "markdown",
   "metadata": {},
   "source": [
    "# Student list\n",
    "\n",
    "See [Manage Students](../../formgrader/manage_students) in Formgrader."
   ]
  },
  {
   "cell_type": "markdown",
   "metadata": {},
   "source": [
    "# Remove student"
   ]
  },
  {
   "cell_type": "code",
   "execution_count": null,
   "metadata": {
    "scrolled": true
   },
   "outputs": [],
   "source": [
    "import os\n",
    "from nbgrader.apps import NbGraderAPI\n",
    "from nbgrader.api import Gradebook, MissingEntry\n",
    "from traitlets.config import Config\n",
    "\n",
    "# Use python-dotenv to load environment variables for better security\n",
    "from dotenv import load_dotenv\n",
    "load_dotenv()\n",
    "\n",
    "COURSE_ROOT = os.environ.get(\"course-root\")\n",
    "COURSE_ID = os.environ.get(\"course-id\")\n",
    "\n",
    "# create a custom config object to specify options for nbgrader API\n",
    "config = Config()\n",
    "config.CourseDirectory.root = COURSE_ROOT\n",
    "config.CourseDirectory.course_id = COURSE_ID\n",
    "\n",
    "gb = Gradebook(f'sqlite://{COURSE_ROOT}/gradebook.db')\n",
    "api = NbGraderAPI(config=config)\n",
    "\n",
    "def delete_from_system(student_id):\n",
    "    import subprocess\n",
    "    status_code = subprocess.call([\"sudo\",\"userdel\",s_id])\n",
    "    if status_code == 6:\n",
    "        print(f'[ ERROR ] User {s_id} does not exist in system.')\n",
    "    status_code = subprocess.call([\"sudo\",\"groupdel\",s_id])\n",
    "    if status_code == 6:\n",
    "        print(f'[ ERROR ] Group {s_id} does not exist in system.')\n",
    "        \n",
    "def remove_from_nbgrader(student_id):\n",
    "    try:\n",
    "        gb.remove_student(s_id)\n",
    "    except Exception as e:\n",
    "        raise\n",
    "    else:\n",
    "        print(f'[SUCCESS] User {s_id} successfully deleted.')\n",
    "\n",
    "def delete_files(student_id):\n",
    "    import subprocess\n",
    "    # TODO: use pathlib for more reliable path joining\n",
    "    dirs = {'submitted': f'{COURSE_ROOT}/submitted/',\n",
    "            'autograded': f'{COURSE_ROOT}/autograded/',\n",
    "            'feedback': f'{COURSE_ROOT}/feedback/',\n",
    "              }\n",
    "    status = []\n",
    "    # TODO: Use Python shutil for removal; rm -rf not recommended\n",
    "    for dir_,path in dirs.items():\n",
    "        if subprocess.call([\"sudo\",\"rm\",\"-R\",f\"{path}{s_id}\"]) == 0:\n",
    "            status.append(dir_)\n",
    "    if any(status):\n",
    "        print(f\"[SUCCESS] Deleted {s_id} from {', '.join(status)}\")\n",
    "    else:\n",
    "        print(f\"[ ERROR ] {s_id} does not exist in nbgrader directories.\")\n",
    "        \n",
    "def main_menu(students):\n",
    "    print('\\n# Student list')\n",
    "    for idx,s in enumerate(students):\n",
    "        print(f'{idx:2}. {s[\"id\"]}')\n",
    "    selected = input('Choose student by id (leave blank to quit): ')\n",
    "    if selected == '':\n",
    "        return None\n",
    "    else:\n",
    "        return int(selected)\n",
    "\n",
    "def student_info(students,idx):\n",
    "    # menu options\n",
    "    menu = {'remove': 'r',\n",
    "            'main': 'm',\n",
    "            'delete': 'd',\n",
    "            }\n",
    "    this = api.get_student(students[idx]['id'])\n",
    "    klen = max([len(k) for k in this.keys()])\n",
    "    print(f'\\n## Info for {this[\"first_name\"]}')\n",
    "    for k,v in this.items():\n",
    "        print(f'{k:{klen}}: {v}')\n",
    "    ret1 = input(f\"'{menu['remove']}' to remove user, \\\n",
    "'{menu['delete']}' to delete user, \\\n",
    "'{menu['main']}' to return to main menu, \\\n",
    "or any key to quit: \")\n",
    "    ret2 = this['id'] if ret1.lower() == menu['remove'] else None\n",
    "    return ret1,ret2"
   ]
  },
  {
   "cell_type": "code",
   "execution_count": null,
   "metadata": {
    "scrolled": true
   },
   "outputs": [],
   "source": [
    "quit = False\n",
    "while not quit:\n",
    "    students = api.get_students()\n",
    "    s_idx = main_menu(students)\n",
    "    if s_idx is None:\n",
    "        break\n",
    "    select,s_id = student_info(students,s_idx)\n",
    "    if select == 'm':\n",
    "        quit = False\n",
    "    elif select == 'r':\n",
    "        remove_from_nbgrader(s_id)\n",
    "    elif select == 'd':\n",
    "        try:\n",
    "            remove_from_nbgrader(s_id)\n",
    "        except MissingEntry:\n",
    "            print(f\"Student {s_id} not found in database.\")\n",
    "        finally:\n",
    "            delete_files(s_id)\n",
    "    else:\n",
    "        quit = True"
   ]
  }
 ],
 "metadata": {
  "kernelspec": {
   "display_name": "Python 3",
   "language": "python",
   "name": "python3"
  },
  "language_info": {
   "codemirror_mode": {
    "name": "ipython",
    "version": 3
   },
   "file_extension": ".py",
   "mimetype": "text/x-python",
   "name": "python",
   "nbconvert_exporter": "python",
   "pygments_lexer": "ipython3",
   "version": "3.6.7"
  }
 },
 "nbformat": 4,
 "nbformat_minor": 2
}
